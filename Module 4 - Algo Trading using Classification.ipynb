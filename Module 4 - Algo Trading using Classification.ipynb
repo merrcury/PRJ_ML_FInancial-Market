{
 "cells": [
  {
   "cell_type": "markdown",
   "metadata": {},
   "source": [
    "# Module 4 - Algo Trading using Classification"
   ]
  },
  {
   "cell_type": "markdown",
   "metadata": {},
   "source": [
    "#---------------------------------------------------------------------------------------------------------------------------------------------------------------------------------------------#"
   ]
  },
  {
   "cell_type": "markdown",
   "metadata": {},
   "source": [
    "## Query 4.1\n",
    "Import the csv file of the stock which contained the Bollinger columns as well. "
   ]
  },
  {
   "cell_type": "code",
   "execution_count": 1,
   "metadata": {},
   "outputs": [],
   "source": [
    "#Importing some basic libraries\n",
    "import pandas as pd\n",
    "import numpy as np\n",
    "from matplotlib import pyplot as plt\n",
    "import scikitplot\n",
    "from sklearn.model_selection import train_test_split, cross_val_score\n",
    "from sklearn.metrics import classification_report, accuracy_score\n",
    "from sklearn.preprocessing import StandardScaler\n",
    "import warnings\n",
    "warnings.filterwarnings('ignore')\n",
    "%matplotlib inline\n",
    "plt.style.use(\"seaborn\")"
   ]
  },
  {
   "cell_type": "code",
   "execution_count": 2,
   "metadata": {},
   "outputs": [],
   "source": [
    "#Stock file of GMR Infrastructure Ltd (NSE: GMRINFRA) containing Bollinger Bands\n",
    "df = pd.read_csv(\"Datasets/week3.csv\")"
   ]
  },
  {
   "cell_type": "markdown",
   "metadata": {},
   "source": [
    "### Query 4.1.1\n",
    "\n",
    "Create a new column 'Call' , whose entries are: \n",
    "1. 'Buy' if the stock price is below the lower Bollinger band\n",
    "2. 'Hold Buy/ Liquidate Short' if the stock price is between the lower and middle Bollinger band\n",
    "3. 'Hold Short/ Liquidate Buy' if the stock price is between the middle and upper Bollinger band\n",
    "4. 'Short' if the stock price is above the upper Bollinger band "
   ]
  },
  {
   "cell_type": "code",
   "execution_count": 3,
   "metadata": {},
   "outputs": [],
   "source": [
    "#Creating New Column \n",
    "df['Call'] = np.nan"
   ]
  },
  {
   "cell_type": "code",
   "execution_count": 4,
   "metadata": {},
   "outputs": [],
   "source": [
    "for x in range(df.shape[0]):\n",
    "    if df['Lower Band'][x] == 0:\n",
    "        continue\n",
    "    elif df['Close Price'][x] < df['Lower Band'][x]:\n",
    "        df['Call'][x] = 'Buy'\n",
    "    elif df['Close Price'][x] >= df['Lower Band'][x] and df['Close Price'][x] < df['Middle Band'][x]:\n",
    "        df['Call'][x] = 'Hold Buy/ Liquidate Short'\n",
    "    elif df['Close Price'][x] < df['Upper Band'][x] and df['Close Price'][x] >= df['Middle Band'][x]:\n",
    "        df['Call'][x] = 'Hold Short/ Liquidate Buy'\n",
    "    elif df['Close Price'][x] > df['Upper Band'][x]:\n",
    "        df['Call'][x] = 'Short'\n",
    "    else:\n",
    "        pass"
   ]
  },
  {
   "cell_type": "code",
   "execution_count": 5,
   "metadata": {},
   "outputs": [],
   "source": [
    "df.dropna(inplace=True)\n",
    "df.reset_index(drop=True, inplace=True)"
   ]
  },
  {
   "cell_type": "markdown",
   "metadata": {},
   "source": [
    "### Query 4.1.2\n",
    "Now train a classification model with the 3 bollinger columns and the stock price as inputs and 'Calls' as output. Check the accuracy on a test set. (There are many classifier models to choose from, try each one out and compare the accuracy for each)"
   ]
  },
  {
   "cell_type": "code",
   "execution_count": 6,
   "metadata": {},
   "outputs": [],
   "source": [
    "#Changing String value of Call to integer\n",
    "unq = df['Call'].unique()\n",
    "k = 0\n",
    "call_dict = {}\n",
    "for y in unq:\n",
    "    call_dict[y] = k\n",
    "    k+=1\n",
    "df['Call'] = df['Call'].map(call_dict).astype(int)"
   ]
  },
  {
   "cell_type": "code",
   "execution_count": 7,
   "metadata": {},
   "outputs": [],
   "source": [
    "#Splitting & Pre-processing of Data\n",
    "X_train, X_test, y_train, y_test = train_test_split(df[['Close Price','Lower Band','Middle Band','Upper Band']], df['Call'], test_size=0.3, random_state=42)\n",
    "\n",
    "sc = StandardScaler()\n",
    "X_train = sc.fit_transform(X_train)\n",
    "X_test = sc.transform(X_test)"
   ]
  },
  {
   "cell_type": "markdown",
   "metadata": {},
   "source": [
    "#### K Nearest Neighbors Classifier"
   ]
  },
  {
   "cell_type": "code",
   "execution_count": 8,
   "metadata": {},
   "outputs": [
    {
     "name": "stdout",
     "output_type": "stream",
     "text": [
      "Accuracy is 0.9103448275862069\n"
     ]
    }
   ],
   "source": [
    "from sklearn.neighbors import KNeighborsClassifier\n",
    "\n",
    "classifier = KNeighborsClassifier(n_neighbors=5, algorithm='auto')\n",
    "classifier.fit(X_train,y_train)\n",
    "\n",
    "y_pred = classifier.predict(X_test)\n",
    "\n",
    "print(\"Accuracy is {}\".format(accuracy_score(y_test, y_pred, normalize=True)))"
   ]
  },
  {
   "cell_type": "markdown",
   "metadata": {},
   "source": [
    "#### Logistic Regression"
   ]
  },
  {
   "cell_type": "code",
   "execution_count": 9,
   "metadata": {},
   "outputs": [
    {
     "name": "stdout",
     "output_type": "stream",
     "text": [
      "Accuracy is 0.8896551724137931\n"
     ]
    }
   ],
   "source": [
    "# Fitting Logistic Regression to the Training set\n",
    "from sklearn.linear_model import LogisticRegression\n",
    "classifier = LogisticRegression(random_state = 0)\n",
    "classifier.fit(X_train, y_train)\n",
    "\n",
    "# Predicting the Test set results\n",
    "y_pred = classifier.predict(X_test)\n",
    "\n",
    "print(\"Accuracy is {}\".format(accuracy_score(y_test, y_pred, normalize=True)))"
   ]
  },
  {
   "cell_type": "markdown",
   "metadata": {},
   "source": [
    "#### Support Vector Machine - Linear"
   ]
  },
  {
   "cell_type": "code",
   "execution_count": 10,
   "metadata": {},
   "outputs": [
    {
     "name": "stdout",
     "output_type": "stream",
     "text": [
      "Accuracy is 0.9241379310344827\n"
     ]
    }
   ],
   "source": [
    "from sklearn.svm import SVC\n",
    "classifier = SVC(kernel = 'linear', random_state = 0)\n",
    "classifier.fit(X_train, y_train)\n",
    "\n",
    "# Predicting the Test set results\n",
    "y_pred = classifier.predict(X_test)\n",
    "\n",
    "print(\"Accuracy is {}\".format(accuracy_score(y_test, y_pred, normalize=True)))"
   ]
  },
  {
   "cell_type": "markdown",
   "metadata": {},
   "source": [
    "#### Support Vector Machine - Radial basis function"
   ]
  },
  {
   "cell_type": "code",
   "execution_count": 11,
   "metadata": {},
   "outputs": [
    {
     "name": "stdout",
     "output_type": "stream",
     "text": [
      "Accuracy is 0.9103448275862069\n"
     ]
    }
   ],
   "source": [
    "#from sklearn.svm import SVC\n",
    "classifier = SVC(kernel = 'rbf', random_state = 0)\n",
    "classifier.fit(X_train, y_train)\n",
    "\n",
    "# Predicting the Test set results\n",
    "y_pred = classifier.predict(X_test)\n",
    "\n",
    "print(\"Accuracy is {}\".format(accuracy_score(y_test, y_pred, normalize=True)))"
   ]
  },
  {
   "cell_type": "markdown",
   "metadata": {},
   "source": [
    "#### Navie Bayes - Gaussian"
   ]
  },
  {
   "cell_type": "code",
   "execution_count": 12,
   "metadata": {},
   "outputs": [
    {
     "name": "stdout",
     "output_type": "stream",
     "text": [
      "Accuracy is 0.6\n"
     ]
    }
   ],
   "source": [
    "from sklearn.naive_bayes import GaussianNB\n",
    "classifier = GaussianNB()\n",
    "classifier.fit(X_train, y_train)\n",
    "\n",
    "# Predicting the Test set results\n",
    "y_pred = classifier.predict(X_test)\n",
    "\n",
    "print(\"Accuracy is {}\".format(accuracy_score(y_test, y_pred, normalize=True)))"
   ]
  },
  {
   "cell_type": "markdown",
   "metadata": {},
   "source": [
    "#### Navie Bayes - Bernoulli"
   ]
  },
  {
   "cell_type": "code",
   "execution_count": 13,
   "metadata": {},
   "outputs": [
    {
     "name": "stdout",
     "output_type": "stream",
     "text": [
      "Accuracy is 0.6068965517241379\n"
     ]
    }
   ],
   "source": [
    "from sklearn.naive_bayes import BernoulliNB\n",
    "classifier = BernoulliNB()\n",
    "classifier.fit(X_train, y_train)\n",
    "\n",
    "# Predicting the Test set results\n",
    "y_pred = classifier.predict(X_test)\n",
    "\n",
    "print(\"Accuracy is {}\".format(accuracy_score(y_test, y_pred, normalize=True)))\n",
    "# You can not apply ComplementNB and MultinomialNB on negative Data\n",
    "# We are getting low accuracy on NB because NB is suitable for Text Classification"
   ]
  },
  {
   "cell_type": "markdown",
   "metadata": {},
   "source": [
    "#### Decision Tree Classifier"
   ]
  },
  {
   "cell_type": "code",
   "execution_count": 14,
   "metadata": {},
   "outputs": [
    {
     "name": "stdout",
     "output_type": "stream",
     "text": [
      "Accuracy is 0.8275862068965517\n"
     ]
    }
   ],
   "source": [
    "from sklearn.tree import DecisionTreeClassifier\n",
    "classifier = DecisionTreeClassifier(criterion = 'entropy', random_state = 0)\n",
    "classifier.fit(X_train, y_train)\n",
    "\n",
    "# Predicting the Test set results\n",
    "y_pred = classifier.predict(X_test)\n",
    "\n",
    "print(\"Accuracy is {}\".format(accuracy_score(y_test, y_pred, normalize=True)))"
   ]
  },
  {
   "cell_type": "markdown",
   "metadata": {},
   "source": [
    "#### Random Forest Classifier"
   ]
  },
  {
   "cell_type": "code",
   "execution_count": 15,
   "metadata": {},
   "outputs": [
    {
     "name": "stdout",
     "output_type": "stream",
     "text": [
      "Accuracy is 0.8689655172413793\n"
     ]
    }
   ],
   "source": [
    "from sklearn.ensemble import RandomForestClassifier\n",
    "classifier = RandomForestClassifier(n_estimators = 200, criterion = 'entropy', random_state = 0)\n",
    "classifier.fit(X_train, y_train)\n",
    "\n",
    "# Predicting the Test set results\n",
    "y_pred = classifier.predict(X_test)\n",
    "\n",
    "print(\"Accuracy is {}\".format(accuracy_score(y_test, y_pred, normalize=True)))"
   ]
  },
  {
   "cell_type": "markdown",
   "metadata": {},
   "source": [
    "##### SVM - Linear has given best accuracy out of all the models"
   ]
  },
  {
   "cell_type": "markdown",
   "metadata": {},
   "source": [
    "### Query 4.1.3\n",
    "\n",
    "Import another stock data and create the bollinger columns. Using the already defined model, predict the daily calls for this new stock."
   ]
  },
  {
   "cell_type": "code",
   "execution_count": 16,
   "metadata": {},
   "outputs": [],
   "source": [
    "# As SVM - Linear has given best accuracy. So, We are using SVM - Linear for further classification.\n",
    "#Importing New Stock file - IDBI Bank LTD.\n",
    "df2 = pd.read_csv(\"Datasets/IDBI.csv\")\n",
    "#Adding Bollinger Bands in IDBI\n",
    "X14 = df2['Close Price'].rolling(14,min_periods=14).mean()\n",
    "X141 = 2*(df2['Close Price'].rolling(14,min_periods=14).std())\n",
    "X142 = X14 - X141\n",
    "X143 = X14 + X141 \n",
    "df2['Lower Band'] = X142\n",
    "df2['Middle Band'] = X14\n",
    "df2['Upper Band'] = X143"
   ]
  },
  {
   "cell_type": "code",
   "execution_count": 17,
   "metadata": {},
   "outputs": [
    {
     "data": {
      "text/plain": [
       "array(['EQ'], dtype=object)"
      ]
     },
     "execution_count": 17,
     "metadata": {},
     "output_type": "execute_result"
    }
   ],
   "source": [
    "#Checking For Equity Values\n",
    "df2['Series'].unique()"
   ]
  },
  {
   "cell_type": "code",
   "execution_count": 18,
   "metadata": {},
   "outputs": [],
   "source": [
    "#Dropping NaN's \n",
    "df2.dropna(inplace=True)\n",
    "df2.reset_index(drop=True, inplace=True)\n",
    "df2['Call'] = np.nan"
   ]
  },
  {
   "cell_type": "code",
   "execution_count": 19,
   "metadata": {},
   "outputs": [],
   "source": [
    "#Training & Pre-processing\n",
    "X_train = sc.fit_transform(df[['Close Price','Lower Band','Middle Band','Upper Band']])\n",
    "X_test = sc.transform(df2[['Close Price','Lower Band','Middle Band','Upper Band']])\n",
    "y_train = df['Call']"
   ]
  },
  {
   "cell_type": "code",
   "execution_count": 20,
   "metadata": {},
   "outputs": [],
   "source": [
    "classifier = SVC(kernel = 'linear', random_state = 0)\n",
    "classifier.fit(X_train, y_train)\n",
    "\n",
    "# Predicting the Test set results\n",
    "y_pred = classifier.predict(X_test)"
   ]
  },
  {
   "cell_type": "code",
   "execution_count": 21,
   "metadata": {},
   "outputs": [],
   "source": [
    "df2['Call'] = y_pred\n",
    "#Invert Mapping\n",
    "inv_map = {v: k for k, v in call_dict.items()}\n",
    "df2 = df2.replace({\"Call\": inv_map})\n",
    "df2['Actual_Call'] = np.nan\n",
    "#Creating Column with Actual Call Value\n",
    "for x in range(df2.shape[0]):\n",
    "    if df2['Lower Band'][x] == 0:\n",
    "        continue\n",
    "    elif df2['Close Price'][x] < df2['Lower Band'][x]:\n",
    "        df2['Actual_Call'][x] = 'Buy'\n",
    "    elif df2['Close Price'][x] >= df2['Lower Band'][x] and df2['Close Price'][x] < df2['Middle Band'][x]:\n",
    "        df2['Actual_Call'][x] = 'Hold Buy/ Liquidate Short'\n",
    "    elif df2['Close Price'][x] < df2['Upper Band'][x] and df2['Close Price'][x] >= df2['Middle Band'][x]:\n",
    "        df2['Actual_Call'][x] = 'Hold Short/ Liquidate Buy'\n",
    "    elif df2['Close Price'][x] > df2['Upper Band'][x]:\n",
    "        df2['Actual_Call'][x] = 'Short'\n",
    "    else:\n",
    "        pass"
   ]
  },
  {
   "cell_type": "code",
   "execution_count": 22,
   "metadata": {},
   "outputs": [
    {
     "data": {
      "text/plain": [
       "Symbol                    0\n",
       "Series                    0\n",
       "Date                      0\n",
       "Prev Close                0\n",
       "Open Price                0\n",
       "High Price                0\n",
       "Low Price                 0\n",
       "Last Price                0\n",
       "Close Price               0\n",
       "Average Price             0\n",
       "Total Traded Quantity     0\n",
       "Turnover                  0\n",
       "No. of Trades             0\n",
       "Deliverable Qty           0\n",
       "% Dly Qt to Traded Qty    0\n",
       "Lower Band                0\n",
       "Middle Band               0\n",
       "Upper Band                0\n",
       "Call                      0\n",
       "Actual_Call               0\n",
       "dtype: int64"
      ]
     },
     "execution_count": 22,
     "metadata": {},
     "output_type": "execute_result"
    }
   ],
   "source": [
    "df2.isnull().sum()"
   ]
  },
  {
   "cell_type": "code",
   "execution_count": 23,
   "metadata": {},
   "outputs": [
    {
     "name": "stdout",
     "output_type": "stream",
     "text": [
      "Classification Report: \n",
      "                           precision    recall  f1-score   support\n",
      "\n",
      "                      Buy       1.00      0.52      0.69        23\n",
      "Hold Buy/ Liquidate Short       0.95      0.89      0.92       244\n",
      "Hold Short/ Liquidate Buy       0.86      1.00      0.93       198\n",
      "                    Short       1.00      0.69      0.81        16\n",
      "\n",
      "                 accuracy                           0.91       481\n",
      "                macro avg       0.95      0.77      0.84       481\n",
      "             weighted avg       0.92      0.91      0.91       481\n",
      "\n"
     ]
    }
   ],
   "source": [
    "print(\"Classification Report: \")\n",
    "print(classification_report(df2['Actual_Call'], df2['Call']))"
   ]
  },
  {
   "cell_type": "markdown",
   "metadata": {},
   "source": [
    "##### 91% Accuracy achieved while predicting stocks for IDBI Bank Ltd"
   ]
  },
  {
   "cell_type": "code",
   "execution_count": 24,
   "metadata": {},
   "outputs": [
    {
     "data": {
      "image/png": "[encoded data removed]",
      "text/plain": [
       "<Figure size 432x288 with 2 Axes>"
      ]
     },
     "metadata": {
      "needs_background": "light"
     },
     "output_type": "display_data"
    }
   ],
   "source": [
    "#confusion matrix\n",
    "scikitplot.metrics.plot_confusion_matrix(df2['Actual_Call'], df2['Call'], x_tick_rotation = 90)\n",
    "plt.show()"
   ]
  },
  {
   "cell_type": "code",
   "execution_count": 25,
   "metadata": {},
   "outputs": [
    {
     "data": {
      "image/png": "[encoded data removed]",
      "text/plain": [
       "<Figure size 864x432 with 1 Axes>"
      ]
     },
     "metadata": {
      "needs_background": "light"
     },
     "output_type": "display_data"
    }
   ],
   "source": [
    "call = df2['Call'].value_counts()\n",
    "a_call = df2['Actual_Call'].value_counts()\n",
    "y = []\n",
    "k =[]\n",
    "for i in range(len(call)):\n",
    "    y.append(call[i])\n",
    "    k.append(a_call[i])\n",
    "x = [\"Hold Short/ Liquidate Buy\",\"Hold Buy/ Liquidate Short\",\"Buy\",\"Short\"]\n",
    "\n",
    "plt.figure(figsize = (12,6))\n",
    "barWidth = 0.25\n",
    " \n",
    "# set height of bar\n",
    "bars1 = y\n",
    "bars2 = k\n",
    "\n",
    " \n",
    "# Set position of bar on X axis\n",
    "r1 = np.arange(len(bars1))\n",
    "r2 = [x + barWidth for x in r1]\n",
    "\n",
    "\n",
    "# Make the plot\n",
    "plt.bar(r1, bars1, color='#7f6d5f', width=barWidth, edgecolor='white', label='Predicted Call')\n",
    "plt.bar(r2, bars2, color='#557f2d', width=barWidth, edgecolor='white', label='Actual Call')\n",
    " \n",
    "# Add xticks on the middle of the group bars\n",
    "plt.xlabel('Calls', fontweight='bold')\n",
    "plt.xticks([r + barWidth for r in range(len(bars1))], x)\n",
    " \n",
    "# Create legend & Show graphic\n",
    "plt.legend()\n",
    "plt.title(\"Comparison between Actual Call & Predicted Call\")\n",
    "plt.show()"
   ]
  }
 ],
 "metadata": {
  "kernelspec": {
   "display_name": "Python 3",
   "language": "python",
   "name": "python3"
  },
  "language_info": {
   "codemirror_mode": {
    "name": "ipython",
    "version": 3
   },
   "file_extension": ".py",
   "mimetype": "text/x-python",
   "name": "python",
   "nbconvert_exporter": "python",
   "pygments_lexer": "ipython3",
   "version": "3.7.3"
  }
 },
 "nbformat": 4,
 "nbformat_minor": 2
}
