{
 "cells": [
  {
   "cell_type": "markdown",
   "metadata": {},
   "source": [
    "# Module 4 - Algo Trading using Classification"
   ]
  },
  {
   "cell_type": "markdown",
   "metadata": {},
   "source": [
    "#---------------------------------------------------------------------------------------------------------------------------------------------------------------------------------------------#"
   ]
  },
  {
   "cell_type": "markdown",
   "metadata": {},
   "source": [
    "## Query 4.1\n",
    "Import the csv file of the stock which contained the Bollinger columns as well. "
   ]
  },
  {
   "cell_type": "code",
   "execution_count": 1,
   "metadata": {},
   "outputs": [],
   "source": [
    "#Importing some basic libraries\n",
    "import pandas as pd\n",
    "import numpy as np\n",
    "from matplotlib import pyplot as plt\n",
    "import scikitplot\n",
    "from sklearn.model_selection import train_test_split, cross_val_score, ShuffleSplit, GridSearchCV\n",
    "from sklearn.metrics import classification_report, accuracy_score, r2_score, make_scorer\n",
    "from sklearn.preprocessing import StandardScaler\n",
    "import warnings\n",
    "warnings.filterwarnings('ignore')\n",
    "%matplotlib inline\n",
    "plt.style.use(\"grayscale\")"
   ]
  },
  {
   "cell_type": "code",
   "execution_count": 2,
   "metadata": {},
   "outputs": [],
   "source": [
    "#Stock file of GMR Infrastructure Ltd (NSE: GMRINFRA) containing Bollinger Bands\n",
    "df = pd.read_csv(\"Datasets/week3.csv\")"
   ]
  },
  {
   "cell_type": "markdown",
   "metadata": {},
   "source": [
    "### Query 4.1.1\n",
    "\n",
    "Create a new column 'Call' , whose entries are: \n",
    "1. 'Buy' if the stock price is below the lower Bollinger band\n",
    "2. 'Hold Buy/ Liquidate Short' if the stock price is between the lower and middle Bollinger band\n",
    "3. 'Hold Short/ Liquidate Buy' if the stock price is between the middle and upper Bollinger band\n",
    "4. 'Short' if the stock price is above the upper Bollinger band "
   ]
  },
  {
   "cell_type": "code",
   "execution_count": 3,
   "metadata": {},
   "outputs": [],
   "source": [
    "#Creating New Column \n",
    "df['Call'] = np.nan"
   ]
  },
  {
   "cell_type": "code",
   "execution_count": 4,
   "metadata": {},
   "outputs": [],
   "source": [
    "for x in range(df.shape[0]):\n",
    "    if df['Lower Band'][x] == 0:\n",
    "        continue\n",
    "    elif df['Close Price'][x] < df['Lower Band'][x]:\n",
    "        df['Call'][x] = 'Buy'\n",
    "    elif df['Close Price'][x] >= df['Lower Band'][x] and df['Close Price'][x] < df['Middle Band'][x]:\n",
    "        df['Call'][x] = 'Hold Buy/ Liquidate Short'\n",
    "    elif df['Close Price'][x] < df['Upper Band'][x] and df['Close Price'][x] >= df['Middle Band'][x]:\n",
    "        df['Call'][x] = 'Hold Short/ Liquidate Buy'\n",
    "    elif df['Close Price'][x] > df['Upper Band'][x]:\n",
    "        df['Call'][x] = 'Short'\n",
    "    else:\n",
    "        pass"
   ]
  },
  {
   "cell_type": "code",
   "execution_count": 5,
   "metadata": {},
   "outputs": [],
   "source": [
    "df.dropna(inplace=True)\n",
    "df.reset_index(drop=True, inplace=True)"
   ]
  },
  {
   "cell_type": "markdown",
   "metadata": {},
   "source": [
    "### Query 4.1.2\n",
    "Now train a classification model with the 3 bollinger columns and the stock price as inputs and 'Calls' as output. Check the accuracy on a test set. (There are many classifier models to choose from, try each one out and compare the accuracy for each)"
   ]
  },
  {
   "cell_type": "code",
   "execution_count": 6,
   "metadata": {},
   "outputs": [],
   "source": [
    "#Changing String value of Call to integer\n",
    "unq = df['Call'].unique()\n",
    "k = 0\n",
    "call_dict = {}\n",
    "for y in unq:\n",
    "    call_dict[y] = k\n",
    "    k+=1\n",
    "df['Call'] = df['Call'].map(call_dict).astype(int)"
   ]
  },
  {
   "cell_type": "code",
   "execution_count": 7,
   "metadata": {},
   "outputs": [],
   "source": [
    "#Splitting & Pre-processing of Data\n",
    "X_train, X_test, y_train, y_test = train_test_split(df[['Close Price','Lower Band','Middle Band','Upper Band']], df['Call'], test_size=0.3, random_state=42)\n",
    "\n",
    "sc = StandardScaler()\n",
    "X_train = sc.fit_transform(X_train)\n",
    "X_test = sc.transform(X_test)"
   ]
  },
  {
   "cell_type": "markdown",
   "metadata": {},
   "source": [
    "#### K Nearest Neighbors Classifier"
   ]
  },
  {
   "cell_type": "code",
   "execution_count": 8,
   "metadata": {},
   "outputs": [
    {
     "name": "stdout",
     "output_type": "stream",
     "text": [
      "Accuracy is 0.9103448275862069\n"
     ]
    }
   ],
   "source": [
    "from sklearn.neighbors import KNeighborsClassifier\n",
    "\n",
    "classifier = KNeighborsClassifier(n_neighbors=5, algorithm='auto')\n",
    "classifier.fit(X_train,y_train)\n",
    "\n",
    "y_pred = classifier.predict(X_test)\n",
    "\n",
    "print(\"Accuracy is {}\".format(accuracy_score(y_test, y_pred, normalize=True)))"
   ]
  },
  {
   "cell_type": "markdown",
   "metadata": {},
   "source": [
    "#### Logistic Regression"
   ]
  },
  {
   "cell_type": "code",
   "execution_count": 9,
   "metadata": {},
   "outputs": [
    {
     "name": "stdout",
     "output_type": "stream",
     "text": [
      "Accuracy is 0.8896551724137931\n"
     ]
    }
   ],
   "source": [
    "# Fitting Logistic Regression to the Training set\n",
    "from sklearn.linear_model import LogisticRegression\n",
    "classifier = LogisticRegression(random_state = 0)\n",
    "classifier.fit(X_train, y_train)\n",
    "\n",
    "# Predicting the Test set results\n",
    "y_pred = classifier.predict(X_test)\n",
    "\n",
    "print(\"Accuracy is {}\".format(accuracy_score(y_test, y_pred, normalize=True)))"
   ]
  },
  {
   "cell_type": "markdown",
   "metadata": {},
   "source": [
    "#### Support Vector Machine - Linear"
   ]
  },
  {
   "cell_type": "code",
   "execution_count": 10,
   "metadata": {},
   "outputs": [
    {
     "name": "stdout",
     "output_type": "stream",
     "text": [
      "Accuracy is 0.9241379310344827\n"
     ]
    }
   ],
   "source": [
    "from sklearn.svm import SVC\n",
    "classifier = SVC(kernel = 'linear', random_state = 0)\n",
    "classifier.fit(X_train, y_train)\n",
    "\n",
    "# Predicting the Test set results\n",
    "y_pred = classifier.predict(X_test)\n",
    "\n",
    "print(\"Accuracy is {}\".format(accuracy_score(y_test, y_pred, normalize=True)))"
   ]
  },
  {
   "cell_type": "markdown",
   "metadata": {},
   "source": [
    "#### Support Vector Machine - Radial basis function"
   ]
  },
  {
   "cell_type": "code",
   "execution_count": 11,
   "metadata": {},
   "outputs": [
    {
     "name": "stdout",
     "output_type": "stream",
     "text": [
      "Accuracy is 0.9103448275862069\n"
     ]
    }
   ],
   "source": [
    "#from sklearn.svm import SVC\n",
    "classifier = SVC(kernel = 'rbf', random_state = 0)\n",
    "classifier.fit(X_train, y_train)\n",
    "\n",
    "# Predicting the Test set results\n",
    "y_pred = classifier.predict(X_test)\n",
    "\n",
    "print(\"Accuracy is {}\".format(accuracy_score(y_test, y_pred, normalize=True)))"
   ]
  },
  {
   "cell_type": "markdown",
   "metadata": {},
   "source": [
    "#### Navie Bayes - Gaussian"
   ]
  },
  {
   "cell_type": "code",
   "execution_count": 12,
   "metadata": {},
   "outputs": [
    {
     "name": "stdout",
     "output_type": "stream",
     "text": [
      "Accuracy is 0.6\n"
     ]
    }
   ],
   "source": [
    "from sklearn.naive_bayes import GaussianNB\n",
    "classifier = GaussianNB()\n",
    "classifier.fit(X_train, y_train)\n",
    "\n",
    "# Predicting the Test set results\n",
    "y_pred = classifier.predict(X_test)\n",
    "\n",
    "print(\"Accuracy is {}\".format(accuracy_score(y_test, y_pred, normalize=True)))"
   ]
  },
  {
   "cell_type": "markdown",
   "metadata": {},
   "source": [
    "#### Navie Bayes - Bernoulli"
   ]
  },
  {
   "cell_type": "code",
   "execution_count": 13,
   "metadata": {},
   "outputs": [
    {
     "name": "stdout",
     "output_type": "stream",
     "text": [
      "Accuracy is 0.6068965517241379\n"
     ]
    }
   ],
   "source": [
    "from sklearn.naive_bayes import BernoulliNB\n",
    "classifier = BernoulliNB()\n",
    "classifier.fit(X_train, y_train)\n",
    "\n",
    "# Predicting the Test set results\n",
    "y_pred = classifier.predict(X_test)\n",
    "\n",
    "print(\"Accuracy is {}\".format(accuracy_score(y_test, y_pred, normalize=True)))\n",
    "# You can not apply ComplementNB and MultinomialNB on negative Data\n",
    "# We are getting low accuracy on NB because NB is suitable for Text Classification"
   ]
  },
  {
   "cell_type": "markdown",
   "metadata": {},
   "source": [
    "#### Decision Tree Classifier"
   ]
  },
  {
   "cell_type": "code",
   "execution_count": 14,
   "metadata": {},
   "outputs": [
    {
     "name": "stdout",
     "output_type": "stream",
     "text": [
      "Accuracy is 0.8275862068965517\n"
     ]
    }
   ],
   "source": [
    "from sklearn.tree import DecisionTreeClassifier\n",
    "classifier = DecisionTreeClassifier(criterion = 'entropy', random_state = 0)\n",
    "classifier.fit(X_train, y_train)\n",
    "\n",
    "# Predicting the Test set results\n",
    "y_pred = classifier.predict(X_test)\n",
    "\n",
    "print(\"Accuracy is {}\".format(accuracy_score(y_test, y_pred, normalize=True)))"
   ]
  },
  {
   "cell_type": "markdown",
   "metadata": {},
   "source": [
    "#### Random Forest Classifier"
   ]
  },
  {
   "cell_type": "code",
   "execution_count": 15,
   "metadata": {},
   "outputs": [
    {
     "name": "stdout",
     "output_type": "stream",
     "text": [
      "Accuracy is 0.8689655172413793\n"
     ]
    }
   ],
   "source": [
    "from sklearn.ensemble import RandomForestClassifier\n",
    "classifier = RandomForestClassifier(n_estimators = 200, criterion = 'entropy', random_state = 0)\n",
    "classifier.fit(X_train, y_train)\n",
    "\n",
    "# Predicting the Test set results\n",
    "y_pred = classifier.predict(X_test)\n",
    "\n",
    "print(\"Accuracy is {}\".format(accuracy_score(y_test, y_pred, normalize=True)))"
   ]
  },
  {
   "cell_type": "markdown",
   "metadata": {},
   "source": [
    "##### SVM - Linear has given best accuracy out of all the models"
   ]
  },
  {
   "cell_type": "markdown",
   "metadata": {},
   "source": [
    "### Query 4.1.3\n",
    "\n",
    "Import another stock data and create the bollinger columns. Using the already defined model, predict the daily calls for this new stock."
   ]
  },
  {
   "cell_type": "code",
   "execution_count": 16,
   "metadata": {},
   "outputs": [],
   "source": [
    "# As SVM - Linear has given best accuracy. So, We are using SVM - Linear for further classification.\n",
    "#Importing New Stock file - IDBI Bank LTD.\n",
    "df2 = pd.read_csv(\"Datasets/IDBI.csv\")\n",
    "#Adding Bollinger Bands in IDBI\n",
    "X14 = df2['Close Price'].rolling(14,min_periods=14).mean()\n",
    "X141 = 2*(df2['Close Price'].rolling(14,min_periods=14).std())\n",
    "X142 = X14 - X141\n",
    "X143 = X14 + X141 \n",
    "df2['Lower Band'] = X142\n",
    "df2['Middle Band'] = X14\n",
    "df2['Upper Band'] = X143"
   ]
  },
  {
   "cell_type": "code",
   "execution_count": 17,
   "metadata": {},
   "outputs": [
    {
     "data": {
      "text/plain": [
       "array(['EQ'], dtype=object)"
      ]
     },
     "execution_count": 17,
     "metadata": {},
     "output_type": "execute_result"
    }
   ],
   "source": [
    "#Checking For Equity Values\n",
    "df2['Series'].unique()"
   ]
  },
  {
   "cell_type": "code",
   "execution_count": 18,
   "metadata": {},
   "outputs": [],
   "source": [
    "#Dropping NaN's \n",
    "df2.dropna(inplace=True)\n",
    "df2.reset_index(drop=True, inplace=True)\n",
    "df2['Call'] = np.nan"
   ]
  },
  {
   "cell_type": "code",
   "execution_count": 19,
   "metadata": {},
   "outputs": [],
   "source": [
    "#Training & Pre-processing\n",
    "X_train = sc.fit_transform(df[['Close Price','Lower Band','Middle Band','Upper Band']])\n",
    "X_test = sc.transform(df2[['Close Price','Lower Band','Middle Band','Upper Band']])\n",
    "y_train = df['Call']"
   ]
  },
  {
   "cell_type": "code",
   "execution_count": 20,
   "metadata": {},
   "outputs": [],
   "source": [
    "classifier = SVC(kernel = 'linear', random_state = 0)\n",
    "classifier.fit(X_train, y_train)\n",
    "\n",
    "# Predicting the Test set results\n",
    "y_pred = classifier.predict(X_test)"
   ]
  },
  {
   "cell_type": "code",
   "execution_count": 21,
   "metadata": {},
   "outputs": [],
   "source": [
    "df2['Call'] = y_pred\n",
    "#Invert Mapping\n",
    "inv_map = {v: k for k, v in call_dict.items()}\n",
    "df2 = df2.replace({\"Call\": inv_map})\n",
    "df2['Actual_Call'] = np.nan\n",
    "#Creating Column with Actual Call Value\n",
    "for x in range(df2.shape[0]):\n",
    "    if df2['Lower Band'][x] == 0:\n",
    "        continue\n",
    "    elif df2['Close Price'][x] < df2['Lower Band'][x]:\n",
    "        df2['Actual_Call'][x] = 'Buy'\n",
    "    elif df2['Close Price'][x] >= df2['Lower Band'][x] and df2['Close Price'][x] < df2['Middle Band'][x]:\n",
    "        df2['Actual_Call'][x] = 'Hold Buy/ Liquidate Short'\n",
    "    elif df2['Close Price'][x] < df2['Upper Band'][x] and df2['Close Price'][x] >= df2['Middle Band'][x]:\n",
    "        df2['Actual_Call'][x] = 'Hold Short/ Liquidate Buy'\n",
    "    elif df2['Close Price'][x] > df2['Upper Band'][x]:\n",
    "        df2['Actual_Call'][x] = 'Short'\n",
    "    else:\n",
    "        pass"
   ]
  },
  {
   "cell_type": "code",
   "execution_count": 22,
   "metadata": {},
   "outputs": [
    {
     "data": {
      "text/plain": [
       "Symbol                    0\n",
       "Series                    0\n",
       "Date                      0\n",
       "Prev Close                0\n",
       "Open Price                0\n",
       "High Price                0\n",
       "Low Price                 0\n",
       "Last Price                0\n",
       "Close Price               0\n",
       "Average Price             0\n",
       "Total Traded Quantity     0\n",
       "Turnover                  0\n",
       "No. of Trades             0\n",
       "Deliverable Qty           0\n",
       "% Dly Qt to Traded Qty    0\n",
       "Lower Band                0\n",
       "Middle Band               0\n",
       "Upper Band                0\n",
       "Call                      0\n",
       "Actual_Call               0\n",
       "dtype: int64"
      ]
     },
     "execution_count": 22,
     "metadata": {},
     "output_type": "execute_result"
    }
   ],
   "source": [
    "df2.isnull().sum()"
   ]
  },
  {
   "cell_type": "code",
   "execution_count": 23,
   "metadata": {},
   "outputs": [
    {
     "name": "stdout",
     "output_type": "stream",
     "text": [
      "Classification Report: \n",
      "                           precision    recall  f1-score   support\n",
      "\n",
      "                      Buy       1.00      0.52      0.69        23\n",
      "Hold Buy/ Liquidate Short       0.95      0.89      0.92       244\n",
      "Hold Short/ Liquidate Buy       0.86      1.00      0.93       198\n",
      "                    Short       1.00      0.69      0.81        16\n",
      "\n",
      "                 accuracy                           0.91       481\n",
      "                macro avg       0.95      0.77      0.84       481\n",
      "             weighted avg       0.92      0.91      0.91       481\n",
      "\n"
     ]
    }
   ],
   "source": [
    "print(\"Classification Report: \")\n",
    "print(classification_report(df2['Actual_Call'], df2['Call']))"
   ]
  },
  {
   "cell_type": "markdown",
   "metadata": {},
   "source": [
    "##### 91% Accuracy achieved while predicting stocks for IDBI Bank Ltd"
   ]
  },
  {
   "cell_type": "code",
   "execution_count": 24,
   "metadata": {},
   "outputs": [
    {
     "data": {
      "image/png": "[encoded data removed]",
      "text/plain": [
       "<Figure size 432x288 with 2 Axes>"
      ]
     },
     "metadata": {
      "needs_background": "light"
     },
     "output_type": "display_data"
    }
   ],
   "source": [
    "#confusion matrix\n",
    "scikitplot.metrics.plot_confusion_matrix(df2['Actual_Call'], df2['Call'], x_tick_rotation = 90)\n",
    "plt.show()"
   ]
  },
  {
   "cell_type": "code",
   "execution_count": 25,
   "metadata": {},
   "outputs": [
    {
     "data": {
      "image/png": "[encoded data removed]",
      "text/plain": [
       "<Figure size 864x432 with 1 Axes>"
      ]
     },
     "metadata": {
      "needs_background": "light"
     },
     "output_type": "display_data"
    }
   ],
   "source": [
    "call = df2['Call'].value_counts()\n",
    "a_call = df2['Actual_Call'].value_counts()\n",
    "y = []\n",
    "k =[]\n",
    "for i in range(len(call)):\n",
    "    y.append(call[i])\n",
    "    k.append(a_call[i])\n",
    "x = [\"Hold Short/ Liquidate Buy\",\"Hold Buy/ Liquidate Short\",\"Buy\",\"Short\"]\n",
    "\n",
    "plt.figure(figsize = (12,6))\n",
    "barWidth = 0.25\n",
    " \n",
    "# set height of bar\n",
    "bars1 = y\n",
    "bars2 = k\n",
    "\n",
    " \n",
    "# Set position of bar on X axis\n",
    "r1 = np.arange(len(bars1))\n",
    "r2 = [x + barWidth for x in r1]\n",
    "\n",
    "\n",
    "# Make the plot\n",
    "plt.bar(r1, bars1, width=barWidth, edgecolor='white', label='Predicted Call')\n",
    "plt.bar(r2, bars2, width=barWidth, edgecolor='white', label='Actual Call')\n",
    " \n",
    "# Add xticks on the middle of the group bars\n",
    "plt.xlabel('Calls', fontweight='bold')\n",
    "plt.xticks([r + barWidth for r in range(len(bars1))], x)\n",
    " \n",
    "# Create legend & Show graphic\n",
    "plt.legend()\n",
    "plt.title(\"Comparison between Actual Call & Predicted Call\")\n",
    "plt.show()"
   ]
  },
  {
   "cell_type": "markdown",
   "metadata": {},
   "source": [
    "## Query 4.2 \n",
    "Now, we'll again utilize classification to make a trade call, and measure the efficiency of our trading algorithm over the past two years. For this assignment , we will use RandomForest classifier."
   ]
  },
  {
   "cell_type": "markdown",
   "metadata": {},
   "source": [
    "### Query 4.2.1\n",
    "Import the stock data file of your choice"
   ]
  },
  {
   "cell_type": "code",
   "execution_count": 26,
   "metadata": {},
   "outputs": [],
   "source": [
    "#Previously Working with GMR\n",
    "df = pd.read_csv(\"Datasets/GMRINFRA.csv\")"
   ]
  },
  {
   "cell_type": "markdown",
   "metadata": {},
   "source": [
    "### Query 4.2.2\n",
    "Define 4 new columns , whose values are:\n",
    "1. % change between Open and Close price for the day\n",
    "2. % change between Low and High price for the day\n",
    "3. 5 day rolling mean of the day to day % change in Close Price\n",
    "4. 5 day rolling std of the day to day % change in Close Price "
   ]
  },
  {
   "cell_type": "code",
   "execution_count": 27,
   "metadata": {},
   "outputs": [],
   "source": [
    "df['Day_Perc_Change'] = df['Close Price'].pct_change(periods = 1)\n",
    "df['Day_Perc_Change'] = df['Day_Perc_Change']*100\n",
    "number1 = df.loc[df.index,'Close Price'].iat[0]\n",
    "number2 = df.loc[df.index,'Prev Close'].iat[0]\n",
    "number = (number1 - number2)\n",
    "number = number/number2\n",
    "number = number * 100\n",
    "df['Day_Perc_Change'][0] = number"
   ]
  },
  {
   "cell_type": "code",
   "execution_count": 28,
   "metadata": {},
   "outputs": [],
   "source": [
    "df['Perc_Chng_OC'] = np.nan\n",
    "for x in range(df.shape[0]):\n",
    "    number2 = df['Open Price'][x]\n",
    "    number1 = df['Close Price'][x]\n",
    "    number = (number1 - number2)\n",
    "    number = number/number2\n",
    "    number = number * 100\n",
    "    df['Perc_Chng_OC'][x] = number"
   ]
  },
  {
   "cell_type": "code",
   "execution_count": 29,
   "metadata": {},
   "outputs": [],
   "source": [
    "df['Perc_Chng_HL'] = np.nan\n",
    "for x in range(df.shape[0]):\n",
    "    number2 = df['Low Price'][x]\n",
    "    number1 = df['High Price'][x]\n",
    "    number = (number1 - number2)\n",
    "    number = number/number2\n",
    "    number = number * 100\n",
    "    df['Perc_Chng_HL'][x] = number"
   ]
  },
  {
   "cell_type": "code",
   "execution_count": 30,
   "metadata": {},
   "outputs": [],
   "source": [
    "df['Rolling Mean'] = df['Day_Perc_Change'].rolling(5,min_periods=5).mean()"
   ]
  },
  {
   "cell_type": "code",
   "execution_count": 31,
   "metadata": {},
   "outputs": [],
   "source": [
    "df['Rolling Std'] = df['Day_Perc_Change'].rolling(5,min_periods=5).std()"
   ]
  },
  {
   "cell_type": "code",
   "execution_count": 32,
   "metadata": {},
   "outputs": [],
   "source": [
    "df.dropna(inplace=True)\n",
    "df.reset_index(drop=True, inplace=True)"
   ]
  },
  {
   "cell_type": "markdown",
   "metadata": {},
   "source": [
    "### Query 4.2.3\n",
    "Create a new column 'Action' whose values are:\n",
    "1. 1 if next day's price(Close) is greater than present day's i.e. Action [ i ] = 1 if Close[ i+1 ] > Close[ i ].\n",
    "2. (-1) if next day's price(Close) is less than present day's i.e. Action [ i ] = (-1) if Close[ i+1 ] < Close[ i ]."
   ]
  },
  {
   "cell_type": "code",
   "execution_count": 33,
   "metadata": {},
   "outputs": [],
   "source": [
    "df['Action'] = np.nan\n",
    "for i in range(df.shape[0]-1):\n",
    "    df['Action'][i] = 1 if df['Close Price'][i+1] > df['Close Price'][i] else -1"
   ]
  },
  {
   "cell_type": "code",
   "execution_count": 34,
   "metadata": {},
   "outputs": [],
   "source": [
    "df.dropna(inplace=True)\n",
    "df.reset_index(drop=True, inplace=True)"
   ]
  },
  {
   "cell_type": "markdown",
   "metadata": {},
   "source": [
    "### Query 4.2.4\n",
    "Construct a classification model with the 4 new inputs and 'Action' as target."
   ]
  },
  {
   "cell_type": "code",
   "execution_count": 35,
   "metadata": {},
   "outputs": [],
   "source": [
    "X_train, X_test, y_train, y_test = train_test_split\\\n",
    "(df[['Perc_Chng_OC','Perc_Chng_HL','Rolling Mean','Rolling Std']],df['Action'], test_size=0.267)"
   ]
  },
  {
   "cell_type": "code",
   "execution_count": 36,
   "metadata": {},
   "outputs": [
    {
     "name": "stdout",
     "output_type": "stream",
     "text": [
      "tarining score = 0.7458100558659218 , while validation score = 0.5696825396825397\n"
     ]
    }
   ],
   "source": [
    "random_forest =RandomForestClassifier(n_estimators=1000, criterion='entropy', max_depth=5, min_samples_split=2,\n",
    "                           min_samples_leaf=2, max_features='auto', bootstrap=False, oob_score=False, \n",
    "                           n_jobs=1, verbose=0)\n",
    "\n",
    "random_forest.fit(X_train, y_train)\n",
    "Y_pred = random_forest.predict(X_test)\n",
    "\n",
    "result_train = random_forest.score(X_train, y_train)\n",
    "result_val = cross_val_score(random_forest,X_train, y_train, cv=5).mean()\n",
    "\n",
    "print('tarining score = %s , while validation score = %s' %(result_train , result_val))"
   ]
  },
  {
   "cell_type": "markdown",
   "metadata": {},
   "source": [
    "### Query 4.2.5\n",
    "Check the accuracy of this model , also , plot the net cumulative returns (in %) if we were to follow this algorithmic model."
   ]
  },
  {
   "cell_type": "code",
   "execution_count": 37,
   "metadata": {},
   "outputs": [
    {
     "data": {
      "text/plain": [
       "0.6335877862595419"
      ]
     },
     "execution_count": 37,
     "metadata": {},
     "output_type": "execute_result"
    }
   ],
   "source": [
    "accuracy_score(y_test, Y_pred, normalize=True)"
   ]
  },
  {
   "cell_type": "code",
   "execution_count": 38,
   "metadata": {},
   "outputs": [],
   "source": [
    "df['Day_Perc_Change'] = df['Day_Perc_Change']/100"
   ]
  },
  {
   "cell_type": "code",
   "execution_count": 39,
   "metadata": {},
   "outputs": [],
   "source": [
    "df['cum_ret'] = 1 + (df['Day_Perc_Change'])\n",
    "df['cum_ret'] = np.cumprod(df['cum_ret'])\n",
    "df['cum_ret'] = 1 - df['cum_ret']\n",
    "df['cum_ret'] = 100 * df['cum_ret']"
   ]
  },
  {
   "cell_type": "code",
   "execution_count": 40,
   "metadata": {},
   "outputs": [
    {
     "data": {
      "text/plain": [
       "[<matplotlib.lines.Line2D at 0x7f6ccb55f978>]"
      ]
     },
     "execution_count": 40,
     "metadata": {},
     "output_type": "execute_result"
    },
    {
     "data": {
      "image/png": "[encoded data removed]",
      "text/plain": [
       "<Figure size 1195.2x432 with 1 Axes>"
      ]
     },
     "metadata": {
      "needs_background": "light"
     },
     "output_type": "display_data"
    }
   ],
   "source": [
    "plt.figure(figsize = (16.6,6))\n",
    "plt.plot(df['cum_ret'])"
   ]
  },
  {
   "cell_type": "code",
   "execution_count": 41,
   "metadata": {},
   "outputs": [],
   "source": [
    "X_train, X_test, y_train, y_test = train_test_split\\\n",
    "(df[['Close Price','Rolling Mean','Rolling Std']],df['cum_ret'], test_size=0.123)"
   ]
  },
  {
   "cell_type": "code",
   "execution_count": 42,
   "metadata": {},
   "outputs": [],
   "source": [
    "def performance_metric(y_true, y_predict):\n",
    "    \"\"\" Calculates and returns the performance score between \n",
    "        true and predicted values based on the metric chosen. \"\"\"\n",
    "    # Calculate the performance score between 'y_true' and 'y_predict'\n",
    "    score = r2_score(y_true, y_predict)\n",
    "    \n",
    "    # Return the score\n",
    "    return score\n",
    "\n",
    "from sklearn.ensemble import RandomForestRegressor\n",
    "\n",
    "def fit_model(X, y):\n",
    "    \"\"\" Performs grid search over the 'max_depth' parameter for a \n",
    "        decision tree regressor trained on the input data [X, y]. \"\"\"\n",
    "    \n",
    "    # Create cross-validation sets from the training data\n",
    "    cv_sets = ShuffleSplit(n_splits=10, test_size = 0.20, random_state = 0)\n",
    "    \n",
    "    # Create a decision tree regressor object\n",
    "    regressor = RandomForestRegressor(n_estimators=100)\n",
    "\n",
    "    # Create a dictionary for the parameter 'max_depth' with a range from 1 to 10\n",
    "    params = {'max_depth' : (1,2,3,4,5,6,7,8,9,10)}\n",
    "    \n",
    "    # Transform 'performance_metric' into a scoring function using 'make_scorer' \n",
    "    scoring_fnc = make_scorer(performance_metric)\n",
    "\n",
    "    # Create the grid search object\n",
    "    grid = GridSearchCV(regressor, params, scoring=scoring_fnc, cv=cv_sets)\n",
    "\n",
    "    # Fit the grid search object to the data to compute the optimal model\n",
    "    grid = grid.fit(X, y)\n",
    "\n",
    "    # Return the optimal model after fitting the data\n",
    "    return grid.best_estimator_\n",
    "\n",
    "# Fit the training data to the model using grid search\n",
    "reg = fit_model(X_train, y_train)"
   ]
  },
  {
   "cell_type": "code",
   "execution_count": 43,
   "metadata": {},
   "outputs": [
    {
     "data": {
      "text/plain": [
       "[<matplotlib.lines.Line2D at 0x7f6ccb66d550>]"
      ]
     },
     "execution_count": 43,
     "metadata": {},
     "output_type": "execute_result"
    },
    {
     "data": {
      "image/png": "[encoded data removed]",
      "text/plain": [
       "<Figure size 1152x432 with 1 Axes>"
      ]
     },
     "metadata": {
      "needs_background": "light"
     },
     "output_type": "display_data"
    }
   ],
   "source": [
    "plt.figure(figsize=(16,6))\n",
    "plt.plot(reg.predict(X_test),'o-')"
   ]
  },
  {
   "cell_type": "code",
   "execution_count": 44,
   "metadata": {},
   "outputs": [
    {
     "data": {
      "text/plain": [
       "0.9995462938838807"
      ]
     },
     "execution_count": 44,
     "metadata": {},
     "output_type": "execute_result"
    }
   ],
   "source": [
    "r2_score(y_test.values,reg.predict(X_test))"
   ]
  }
 ],
 "metadata": {
  "kernelspec": {
   "display_name": "Python 3",
   "language": "python",
   "name": "python3"
  },
  "language_info": {
   "codemirror_mode": {
    "name": "ipython",
    "version": 3
   },
   "file_extension": ".py",
   "mimetype": "text/x-python",
   "name": "python",
   "nbconvert_exporter": "python",
   "pygments_lexer": "ipython3",
   "version": "3.7.3"
  }
 },
 "nbformat": 4,
 "nbformat_minor": 2
}
