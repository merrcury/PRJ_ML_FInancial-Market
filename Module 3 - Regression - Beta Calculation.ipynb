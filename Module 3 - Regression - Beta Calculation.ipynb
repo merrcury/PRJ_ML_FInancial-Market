{
 "cells": [
  {
   "cell_type": "markdown",
   "metadata": {},
   "source": [
    "# Module 3"
   ]
  },
  {
   "cell_type": "markdown",
   "metadata": {},
   "source": [
    "This module would introduce us to the Regression related inferences to be drawn from the data.\n",
    "\n",
    "Regression is basically a statistical approach to find the relationship between variables. In machine learning, this is used to predict the outcome of an event based on the relationship between variables obtained from the data-set. More often than not, we utilize linear regression to come up with an ideal inference"
   ]
  },
  {
   "cell_type": "markdown",
   "metadata": {},
   "source": [
    "#--------------------------------------------------------------------------------------------------------------------------------------------------------------------------------------------------------#"
   ]
  },
  {
   "cell_type": "markdown",
   "metadata": {},
   "source": [
    "## Query 3.1 \n",
    "Import the file 'gold.csv', which is contains the data about last 2 years price action of Indian(MCX) gold standard. Explore the dataframe. You'd see 2 unique columns - 'Pred' and 'new'.\n",
    "\n",
    "One of the 2 columns is a linear combination of the OHLC prices with varying coefficients while the other is a polynomial fucntion of the same inputs. Also, one of the 2 columns is partially filled.\n",
    "\n",
    ">Using linear regression, find the coefficients of the inputs and using the same trained model, complete the\n",
    "      entire column.\n",
    "      \n",
    ">Also, try to fit the other column as well using a new linear regression model. Check if the predicitons are \n",
    "      accurate.\n",
    "      Mention which column is a linear function and which is a polynomial function.\n",
    "      (Hint: Plotting a histogram & distplot helps in recognizing the  discrepencies in prediction, if any.)"
   ]
  },
  {
   "cell_type": "code",
   "execution_count": 1,
   "metadata": {},
   "outputs": [],
   "source": [
    "import pandas as pd\n",
    "import numpy as np\n",
    "from matplotlib import pyplot as plt\n",
    "from sklearn.linear_model import LinearRegression\n",
    "from sklearn.preprocessing import PolynomialFeatures\n",
    "from sklearn.model_selection import train_test_split\n",
    "from sklearn.metrics import mean_squared_error\n",
    "from sklearn.metrics import r2_score\n",
    "import seaborn as sns\n",
    "import statsmodels.api as sm\n",
    "import warnings\n",
    "warnings.filterwarnings('ignore')\n",
    "%matplotlib inline\n",
    "plt.style.use('seaborn')"
   ]
  },
  {
   "cell_type": "code",
   "execution_count": 2,
   "metadata": {},
   "outputs": [],
   "source": [
    "df = pd.read_csv(\"Datasets/GOLD.csv\")"
   ]
  },
  {
   "cell_type": "code",
   "execution_count": 3,
   "metadata": {},
   "outputs": [
    {
     "data": {
      "text/plain": [
       "Date          0\n",
       "Price         0\n",
       "Open          0\n",
       "High          0\n",
       "Low           0\n",
       "Vol.          0\n",
       "Change %      0\n",
       "Pred        101\n",
       "new           0\n",
       "dtype: int64"
      ]
     },
     "execution_count": 3,
     "metadata": {},
     "output_type": "execute_result"
    }
   ],
   "source": [
    "df.isnull().sum()"
   ]
  },
  {
   "cell_type": "code",
   "execution_count": 4,
   "metadata": {},
   "outputs": [],
   "source": [
    "X = df[['Price','Open','High','Low']].head(411)\n",
    "Y = df['Pred'].head(411)"
   ]
  },
  {
   "cell_type": "code",
   "execution_count": 5,
   "metadata": {},
   "outputs": [],
   "source": [
    "lin = LinearRegression() \n",
    "fit_r = lin.fit(X,Y) "
   ]
  },
  {
   "cell_type": "code",
   "execution_count": 6,
   "metadata": {},
   "outputs": [
    {
     "data": {
      "text/plain": [
       "array([ 2.,  3., -1., -4.])"
      ]
     },
     "execution_count": 6,
     "metadata": {},
     "output_type": "execute_result"
    }
   ],
   "source": [
    "fit_r.coef_"
   ]
  },
  {
   "cell_type": "code",
   "execution_count": 7,
   "metadata": {},
   "outputs": [],
   "source": [
    "X_find = df[['Price','Open','High','Low']].tail(101)"
   ]
  },
  {
   "cell_type": "code",
   "execution_count": 8,
   "metadata": {},
   "outputs": [],
   "source": [
    "Y_pred = lin.predict(X_find)"
   ]
  },
  {
   "cell_type": "code",
   "execution_count": 9,
   "metadata": {},
   "outputs": [],
   "source": [
    "df['Pred'][411:] = Y_pred"
   ]
  },
  {
   "cell_type": "code",
   "execution_count": 10,
   "metadata": {},
   "outputs": [
    {
     "data": {
      "text/plain": [
       "Date        0\n",
       "Price       0\n",
       "Open        0\n",
       "High        0\n",
       "Low         0\n",
       "Vol.        0\n",
       "Change %    0\n",
       "Pred        0\n",
       "new         0\n",
       "dtype: int64"
      ]
     },
     "execution_count": 10,
     "metadata": {},
     "output_type": "execute_result"
    }
   ],
   "source": [
    "df.isnull().sum()"
   ]
  },
  {
   "cell_type": "code",
   "execution_count": 11,
   "metadata": {},
   "outputs": [
    {
     "name": "stdout",
     "output_type": "stream",
     "text": [
      "Best degree 2 with RMSE 0.035447612447046445\n"
     ]
    },
    {
     "data": {
      "image/png": "[encoded data removed]",
      "text/plain": [
       "<Figure size 432x288 with 1 Axes>"
      ]
     },
     "metadata": {
      "needs_background": "light"
     },
     "output_type": "display_data"
    }
   ],
   "source": [
    "#In this section, We are gonna find out the best degree for the Polynomial Regression Model.\n",
    "X = df[['Price','Open','High','Low']]\n",
    "y = df['new']\n",
    "x_train, x_test, y_train, y_test = train_test_split(X, y, test_size=0.3)\n",
    "\n",
    "rmses = []\n",
    "degrees = np.arange(1, 10)\n",
    "min_rmse, min_deg = 1e10, 0\n",
    "\n",
    "for deg in degrees:\n",
    "\n",
    "    # Train features\n",
    "    poly_features = PolynomialFeatures(degree=deg, include_bias=False)\n",
    "    x_poly_train = poly_features.fit_transform(x_train)\n",
    "\n",
    "    # Linear regression\n",
    "    poly_reg = LinearRegression()\n",
    "    poly_reg.fit(x_poly_train, y_train)\n",
    "\n",
    "    # Compare with test data\n",
    "    x_poly_test = poly_features.fit_transform(x_test)\n",
    "    poly_predict = poly_reg.predict(x_poly_test)\n",
    "    poly_mse = mean_squared_error(y_test, poly_predict)\n",
    "    poly_rmse = np.sqrt(poly_mse)\n",
    "    rmses.append(poly_rmse)\n",
    "    \n",
    "        # Cross-validation of degree\n",
    "    if min_rmse > poly_rmse:\n",
    "        min_rmse = poly_rmse\n",
    "        min_deg = deg\n",
    "\n",
    "# Plot and present results\n",
    "print('Best degree {} with RMSE {}'.format(min_deg, min_rmse))\n",
    "\n",
    "fig = plt.figure()\n",
    "ax = fig.add_subplot(111)\n",
    "ax.plot(degrees, rmses)\n",
    "ax.set_yscale('log')\n",
    "ax.set_xlabel('Degree')\n",
    "ax.set_ylabel('RMSE')\n",
    "plt.show()"
   ]
  },
  {
   "cell_type": "code",
   "execution_count": 12,
   "metadata": {},
   "outputs": [
    {
     "data": {
      "text/plain": [
       "LinearRegression(copy_X=True, fit_intercept=True, n_jobs=None, normalize=False)"
      ]
     },
     "execution_count": 12,
     "metadata": {},
     "output_type": "execute_result"
    }
   ],
   "source": [
    "poly = PolynomialFeatures(degree = 2)#Used Best Degree According to Graph\n",
    "X_poly = poly.fit_transform(df[['Price','Open','High','Low']])\n",
    "y = df['new']\n",
    "X_train, X_test, y_train, y_test = train_test_split(X_poly, y, test_size=0.3, random_state=0)\n",
    "lin2 = LinearRegression()\n",
    "poly.fit(X_train, y_train) \n",
    "lin2.fit(X_train, y_train)"
   ]
  },
  {
   "cell_type": "code",
   "execution_count": 13,
   "metadata": {},
   "outputs": [
    {
     "data": {
      "text/plain": [
       "array([ 0.00000000e+00,  1.01149014e+00, -1.00038387e+00,  1.00514610e+00,\n",
       "       -1.01629689e+00,  4.01317582e-07, -1.02074780e-06,  3.25053322e-05,\n",
       "       -3.26601524e-05, -6.36851878e-07,  8.12007559e-07,  1.49803886e-06,\n",
       "       -5.70511253e-08, -3.33750698e-05,  3.25346911e-05])"
      ]
     },
     "execution_count": 13,
     "metadata": {},
     "output_type": "execute_result"
    }
   ],
   "source": [
    "lin2.coef_"
   ]
  },
  {
   "cell_type": "code",
   "execution_count": 14,
   "metadata": {},
   "outputs": [],
   "source": [
    "poly.fit(X_test) \n",
    "y_pred_1 = lin2.predict(X_test)"
   ]
  },
  {
   "cell_type": "code",
   "execution_count": 15,
   "metadata": {},
   "outputs": [
    {
     "data": {
      "text/plain": [
       "0.9999999902555504"
      ]
     },
     "execution_count": 15,
     "metadata": {},
     "output_type": "execute_result"
    }
   ],
   "source": [
    "r2_score(y_test, y_pred_1)"
   ]
  },
  {
   "cell_type": "code",
   "execution_count": 16,
   "metadata": {},
   "outputs": [
    {
     "data": {
      "text/plain": [
       "<matplotlib.axes._subplots.AxesSubplot at 0x7f8d522ef198>"
      ]
     },
     "execution_count": 16,
     "metadata": {},
     "output_type": "execute_result"
    },
    {
     "data": {
      "image/png": "[encoded data removed]",
      "text/plain": [
       "<Figure size 432x288 with 1 Axes>"
      ]
     },
     "metadata": {
      "needs_background": "light"
     },
     "output_type": "display_data"
    }
   ],
   "source": [
    "sns.distplot(y_pred_1)"
   ]
  },
  {
   "cell_type": "code",
   "execution_count": 17,
   "metadata": {},
   "outputs": [
    {
     "data": {
      "text/plain": [
       "<matplotlib.axes._subplots.AxesSubplot at 0x7f8d4ff9cac8>"
      ]
     },
     "execution_count": 17,
     "metadata": {},
     "output_type": "execute_result"
    },
    {
     "data": {
      "image/png": "[encoded data removed]",
      "text/plain": [
       "<Figure size 432x288 with 1 Axes>"
      ]
     },
     "metadata": {
      "needs_background": "light"
     },
     "output_type": "display_data"
    }
   ],
   "source": [
    "sns.distplot(Y_pred)"
   ]
  },
  {
   "cell_type": "markdown",
   "metadata": {},
   "source": [
    "CAPM CAPM Analysis and Beta Calculation using regression -\n",
    "CAPM(Capital Asset Pricing Model) attempts to price securities by examining the relationship that exists between expected returns and risk.\n",
    "\n",
    "The Beta of an asset is a measure of the sensitivity of its returns relative to a market benchmark (usually a market index). How sensitive/insensitive is the returns of an asset to the overall market returns (usually a market index like S&P 500 index). What happens when the market jumps, does the returns of the asset jump accordingly or jump somehow?\n"
   ]
  },
  {
   "cell_type": "markdown",
   "metadata": {},
   "source": [
    "## Query 3.2 \n",
    "Import the stock of your choosing AND the Nifty index.\n",
    "Using linear regression (OLS), calculate -\n",
    ">The daily Beta value for the past 3 months. (Daily= Daily returns)\n",
    "\n",
    ">The monthly Beta value. (Monthly= Monthly returns)\n",
    "\n",
    "Refrain from using the (covariance(x,y)/variance(x)) formula.<BR>\n",
    "Attempt the question using regression.(Regression Reference)<BR>\n",
    "Were the Beta values more or less than 1 ? What if it was negative ?<BR>\n",
    "Discuss. Include a brief writeup in the bottom of your jupyter notebook with your inferences from the Beta values and regression results "
   ]
  },
  {
   "cell_type": "code",
   "execution_count": 19,
   "metadata": {},
   "outputs": [],
   "source": [
    "#My all previous work is based on GMR. So, I have choosen GMR for this too.\n",
    "df2 = pd.read_csv(\"Datasets/MID_CAP/GMRINFRA.csv\",parse_dates=True,index_col='Date')\n",
    "df3 = pd.read_csv(\"Datasets/Nifty50.csv\",parse_dates=True,index_col='Date')\n",
    "daily_prices = pd.concat([df2['Close Price'], df3['Close']], axis=1)\n",
    "daily_prices.columns = ['GMR', 'Nifty']"
   ]
  },
  {
   "cell_type": "code",
   "execution_count": 20,
   "metadata": {},
   "outputs": [
    {
     "name": "stdout",
     "output_type": "stream",
     "text": [
      "              GMR    Nifty\n",
      "Date                      \n",
      "2017-05-15  17.55  9445.40\n",
      "2017-05-16  17.40  9512.25\n",
      "2017-05-17  17.30  9525.75\n",
      "2017-05-18  16.75  9429.45\n",
      "2017-05-19  16.95  9427.90\n",
      "                 GMR     Nifty\n",
      "Date                          \n",
      "2017-05-16 -0.008547  0.007078\n",
      "2017-05-17 -0.005747  0.001419\n",
      "2017-05-18 -0.031792 -0.010109\n",
      "2017-05-19  0.011940 -0.000164\n",
      "2017-05-22 -0.008850  0.001098\n"
     ]
    }
   ],
   "source": [
    "print(daily_prices.head())\n",
    "\n",
    "# calculate daily returns\n",
    "daily_returns = daily_prices.pct_change(1)\n",
    "clean_daily_returns = daily_returns.dropna(axis=0)  # drop first missing row\n",
    "print(clean_daily_returns.head())"
   ]
  },
  {
   "cell_type": "code",
   "execution_count": 21,
   "metadata": {},
   "outputs": [
    {
     "name": "stdout",
     "output_type": "stream",
     "text": [
      "                            OLS Regression Results                            \n",
      "==============================================================================\n",
      "Dep. Variable:                    GMR   R-squared:                       0.207\n",
      "Model:                            OLS   Adj. R-squared:                  0.205\n",
      "Method:                 Least Squares   F-statistic:                     127.9\n",
      "Date:                Wed, 31 Jul 2019   Prob (F-statistic):           1.61e-26\n",
      "Time:                        23:23:26   Log-Likelihood:                 1083.7\n",
      "No. Observations:                 493   AIC:                            -2163.\n",
      "Df Residuals:                     491   BIC:                            -2155.\n",
      "Df Model:                           1                                         \n",
      "Covariance Type:            nonrobust                                         \n",
      "==============================================================================\n",
      "                 coef    std err          t      P>|t|      [0.025      0.975]\n",
      "------------------------------------------------------------------------------\n",
      "const         -0.0005      0.001     -0.425      0.671      -0.003       0.002\n",
      "Nifty          1.9044      0.168     11.311      0.000       1.574       2.235\n",
      "==============================================================================\n",
      "Omnibus:                       84.185   Durbin-Watson:                   2.095\n",
      "Prob(Omnibus):                  0.000   Jarque-Bera (JB):              300.010\n",
      "Skew:                           0.744   Prob(JB):                     7.14e-66\n",
      "Kurtosis:                       6.520   Cond. No.                         139.\n",
      "==============================================================================\n",
      "\n",
      "Warnings:\n",
      "[1] Standard Errors assume that the covariance matrix of the errors is correctly specified.\n"
     ]
    }
   ],
   "source": [
    "# split dependent and independent variable\n",
    "\n",
    "X = clean_daily_returns['Nifty']\n",
    "y = clean_daily_returns['GMR']\n",
    "\n",
    "# Add a constant to the independent value\n",
    "X1 = sm.add_constant(X)\n",
    "\n",
    "# make regression model \n",
    "model = sm.OLS(y, X1)\n",
    "\n",
    "# fit model and print results\n",
    "results = model.fit()\n",
    "print(results.summary())"
   ]
  },
  {
   "cell_type": "code",
   "execution_count": 22,
   "metadata": {},
   "outputs": [
    {
     "name": "stdout",
     "output_type": "stream",
     "text": [
      "Beta for all days in dataset: 1.904384093358036\n"
     ]
    }
   ],
   "source": [
    "print(\"Beta for all days in dataset: {}\" .format(results.params[1]))"
   ]
  },
  {
   "cell_type": "code",
   "execution_count": 23,
   "metadata": {},
   "outputs": [
    {
     "name": "stdout",
     "output_type": "stream",
     "text": [
      "Beta for 3 months as per daily returns: 1.635273088999384\n"
     ]
    }
   ],
   "source": [
    "#Beta calculation for 3 months - 63 Days(as per Financial Markets)\n",
    "X = clean_daily_returns['Nifty'].tail(63)\n",
    "y = clean_daily_returns['GMR'].tail(63)\n",
    "X1 = sm.add_constant(X) \n",
    "model = sm.OLS(y, X1)\n",
    "results = model.fit()\n",
    "print(\"Beta for 3 months as per daily returns: {}\" .format(results.params[1]))"
   ]
  },
  {
   "cell_type": "code",
   "execution_count": 24,
   "metadata": {},
   "outputs": [],
   "source": [
    "#Monthly Beta Calculation \n",
    "monthly_returns = daily_returns.copy()\n",
    "monthly_returns = monthly_returns+1\n",
    "monthly_returns = monthly_returns.dropna(axis=0)\n",
    "monthly_returns['Year'] = pd.DatetimeIndex(monthly_returns.index).year\n",
    "monthly_returns['Month'] = pd.DatetimeIndex(monthly_returns.index).month\n",
    "monthly_returns = monthly_returns.groupby(['Month','Year']).prod()\n",
    "monthly_returns = monthly_returns - 1"
   ]
  },
  {
   "cell_type": "code",
   "execution_count": 25,
   "metadata": {},
   "outputs": [
    {
     "name": "stdout",
     "output_type": "stream",
     "text": [
      "Monthly Beta value for GMRINFRA: 1.9971306457455724\n"
     ]
    }
   ],
   "source": [
    "X = monthly_returns['Nifty']\n",
    "Y = monthly_returns['GMR']\n",
    "X1 = sm.add_constant(X)\n",
    "model = sm.OLS(Y, X1)\n",
    "results = model.fit()\n",
    "print(\"Monthly Beta value for GMRINFRA: {}\" .format(results.params[1]))"
   ]
  },
  {
   "cell_type": "markdown",
   "metadata": {},
   "source": [
    "### Discussion:\n",
    "\n",
    "> Beta values are greater than 1 for GMRINFRA for every parameter. \n",
    "\n",
    "> Beta Values greater than 1 implies that Stock is Volatile. At various points, I have found out that GMRINFRA is a volatile stock. Performance of GMRINFRA is not appropriate for the investment.\n",
    "\n",
    "> Stock market can't be risk free. Lower Beta Values implies of lower risk rate. Lower Beta also means lower volatility rate. \n",
    "\n",
    "> Thinking of market with Zero Risk & Zero Volatility, that will call for Zero beta value. What you see is not necessarily true. This proverb is for this situation,  your zero-beta investment actually loses if it pays interest at less than the rate of inflation.\n",
    "\n",
    "> Negative Beta implicates investtment is  moving in opposite direction from stock market. When the market rises, a negative-beta investment generally falls. When the market falls, the negative-beta investment will tend to rise. A negative beta coefficient does not really mean non attendance of hazard. Rather, negative beta methods your speculation offers a support against genuine market downturns. In the event that the market keeps rising, nonetheless, a negative-beta speculation is losing cash through circumstance hazard – the loss of the opportunity to make higher returns – and expansion chance, in which a low rate of return does not keep pace with swelling.\n",
    "\n",
    "> Regression Results - A positive coefficient indicates that as the value of the independent variable increases, the mean of the dependent variable also tends to increase. A negative coefficient suggests that as the independent variable increases, the dependent variable tends to decrease."
   ]
  }
 ],
 "metadata": {
  "kernelspec": {
   "display_name": "Python 3",
   "language": "python",
   "name": "python3"
  },
  "language_info": {
   "codemirror_mode": {
    "name": "ipython",
    "version": 3
   },
   "file_extension": ".py",
   "mimetype": "text/x-python",
   "name": "python",
   "nbconvert_exporter": "python",
   "pygments_lexer": "ipython3",
   "version": "3.7.3"
  }
 },
 "nbformat": 4,
 "nbformat_minor": 2
}
